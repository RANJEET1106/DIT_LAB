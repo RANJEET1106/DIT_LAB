{
 "cells": [
  {
   "cell_type": "code",
   "execution_count": 5,
   "id": "a8981985-3d9d-428f-bcf5-ad7a72d75db2",
   "metadata": {},
   "outputs": [],
   "source": [
    "import numpy as np\n",
    "import pandas as pd\n",
    "import matplotlib.pyplot as plt\n",
    "import seaborn as sns"
   ]
  },
  {
   "cell_type": "code",
   "execution_count": 7,
   "id": "a76bc6f7-376b-4db4-9a0f-4a381b11b224",
   "metadata": {},
   "outputs": [],
   "source": [
    "data = pd.read_csv(\"/home/ubuntu/Ranjeet/DSBDAL/Social_Media_Advertising.csv\")\n"
   ]
  },
  {
   "cell_type": "code",
   "execution_count": 8,
   "id": "fd8b5f9c-75c5-44d7-8d8a-28451c5a31bd",
   "metadata": {},
   "outputs": [
    {
     "data": {
      "text/html": [
       "<div>\n",
       "<style scoped>\n",
       "    .dataframe tbody tr th:only-of-type {\n",
       "        vertical-align: middle;\n",
       "    }\n",
       "\n",
       "    .dataframe tbody tr th {\n",
       "        vertical-align: top;\n",
       "    }\n",
       "\n",
       "    .dataframe thead th {\n",
       "        text-align: right;\n",
       "    }\n",
       "</style>\n",
       "<table border=\"1\" class=\"dataframe\">\n",
       "  <thead>\n",
       "    <tr style=\"text-align: right;\">\n",
       "      <th></th>\n",
       "      <th>Campaign_ID</th>\n",
       "      <th>Target_Audience</th>\n",
       "      <th>Campaign_Goal</th>\n",
       "      <th>Duration</th>\n",
       "      <th>Channel_Used</th>\n",
       "      <th>Conversion_Rate</th>\n",
       "      <th>Acquisition_Cost</th>\n",
       "      <th>ROI</th>\n",
       "      <th>Location</th>\n",
       "      <th>Language</th>\n",
       "      <th>Clicks</th>\n",
       "      <th>Impressions</th>\n",
       "      <th>Engagement_Score</th>\n",
       "      <th>Customer_Segment</th>\n",
       "      <th>Date</th>\n",
       "      <th>Company</th>\n",
       "    </tr>\n",
       "  </thead>\n",
       "  <tbody>\n",
       "    <tr>\n",
       "      <th>0</th>\n",
       "      <td>529013</td>\n",
       "      <td>Men 35-44</td>\n",
       "      <td>Product Launch</td>\n",
       "      <td>15 Days</td>\n",
       "      <td>Instagram</td>\n",
       "      <td>0.15</td>\n",
       "      <td>$500.00</td>\n",
       "      <td>5.790000</td>\n",
       "      <td>Las Vegas</td>\n",
       "      <td>Spanish</td>\n",
       "      <td>500</td>\n",
       "      <td>3000</td>\n",
       "      <td>7</td>\n",
       "      <td>Health</td>\n",
       "      <td>2022-02-25</td>\n",
       "      <td>Aura Align</td>\n",
       "    </tr>\n",
       "    <tr>\n",
       "      <th>1</th>\n",
       "      <td>275352</td>\n",
       "      <td>Women 45-60</td>\n",
       "      <td>Market Expansion</td>\n",
       "      <td>15 Days</td>\n",
       "      <td>Facebook</td>\n",
       "      <td>0.01</td>\n",
       "      <td>$500.00</td>\n",
       "      <td>7.210000</td>\n",
       "      <td>Los Angeles</td>\n",
       "      <td>French</td>\n",
       "      <td>500</td>\n",
       "      <td>3000</td>\n",
       "      <td>5</td>\n",
       "      <td>Home</td>\n",
       "      <td>2022-05-12</td>\n",
       "      <td>Hearth Harmony</td>\n",
       "    </tr>\n",
       "    <tr>\n",
       "      <th>2</th>\n",
       "      <td>692322</td>\n",
       "      <td>Men 45-60</td>\n",
       "      <td>Product Launch</td>\n",
       "      <td>15 Days</td>\n",
       "      <td>Instagram</td>\n",
       "      <td>0.08</td>\n",
       "      <td>$500.00</td>\n",
       "      <td>0.430000</td>\n",
       "      <td>Austin</td>\n",
       "      <td>Spanish</td>\n",
       "      <td>500</td>\n",
       "      <td>3000</td>\n",
       "      <td>9</td>\n",
       "      <td>Technology</td>\n",
       "      <td>2022-06-19</td>\n",
       "      <td>Cyber Circuit</td>\n",
       "    </tr>\n",
       "    <tr>\n",
       "      <th>3</th>\n",
       "      <td>675757</td>\n",
       "      <td>Men 25-34</td>\n",
       "      <td>Increase Sales</td>\n",
       "      <td>15 Days</td>\n",
       "      <td>Pinterest</td>\n",
       "      <td>0.03</td>\n",
       "      <td>$500.00</td>\n",
       "      <td>0.909824</td>\n",
       "      <td>Miami</td>\n",
       "      <td>Spanish</td>\n",
       "      <td>293</td>\n",
       "      <td>1937</td>\n",
       "      <td>1</td>\n",
       "      <td>Health</td>\n",
       "      <td>2022-09-08</td>\n",
       "      <td>Well Wish</td>\n",
       "    </tr>\n",
       "    <tr>\n",
       "      <th>4</th>\n",
       "      <td>535900</td>\n",
       "      <td>Men 45-60</td>\n",
       "      <td>Market Expansion</td>\n",
       "      <td>15 Days</td>\n",
       "      <td>Pinterest</td>\n",
       "      <td>0.13</td>\n",
       "      <td>$500.00</td>\n",
       "      <td>1.422828</td>\n",
       "      <td>Austin</td>\n",
       "      <td>French</td>\n",
       "      <td>293</td>\n",
       "      <td>1937</td>\n",
       "      <td>1</td>\n",
       "      <td>Home</td>\n",
       "      <td>2022-08-24</td>\n",
       "      <td>Hearth Harmony</td>\n",
       "    </tr>\n",
       "  </tbody>\n",
       "</table>\n",
       "</div>"
      ],
      "text/plain": [
       "   Campaign_ID Target_Audience     Campaign_Goal Duration Channel_Used  \\\n",
       "0       529013       Men 35-44    Product Launch  15 Days    Instagram   \n",
       "1       275352     Women 45-60  Market Expansion  15 Days     Facebook   \n",
       "2       692322       Men 45-60    Product Launch  15 Days    Instagram   \n",
       "3       675757       Men 25-34    Increase Sales  15 Days    Pinterest   \n",
       "4       535900       Men 45-60  Market Expansion  15 Days    Pinterest   \n",
       "\n",
       "   Conversion_Rate Acquisition_Cost       ROI     Location Language  Clicks  \\\n",
       "0             0.15          $500.00  5.790000    Las Vegas  Spanish     500   \n",
       "1             0.01          $500.00  7.210000  Los Angeles   French     500   \n",
       "2             0.08          $500.00  0.430000       Austin  Spanish     500   \n",
       "3             0.03          $500.00  0.909824        Miami  Spanish     293   \n",
       "4             0.13          $500.00  1.422828       Austin   French     293   \n",
       "\n",
       "   Impressions  Engagement_Score Customer_Segment        Date         Company  \n",
       "0         3000                 7           Health  2022-02-25      Aura Align  \n",
       "1         3000                 5             Home  2022-05-12  Hearth Harmony  \n",
       "2         3000                 9       Technology  2022-06-19   Cyber Circuit  \n",
       "3         1937                 1           Health  2022-09-08       Well Wish  \n",
       "4         1937                 1             Home  2022-08-24  Hearth Harmony  "
      ]
     },
     "execution_count": 8,
     "metadata": {},
     "output_type": "execute_result"
    }
   ],
   "source": [
    "data.head(5)"
   ]
  },
  {
   "cell_type": "code",
   "execution_count": 18,
   "id": "257cc115-dfcd-4792-b18d-e3f9744e1ad7",
   "metadata": {},
   "outputs": [
    {
     "data": {
      "text/plain": [
       "(300000, 16)"
      ]
     },
     "execution_count": 18,
     "metadata": {},
     "output_type": "execute_result"
    }
   ],
   "source": [
    "data.shape"
   ]
  },
  {
   "cell_type": "code",
   "execution_count": 9,
   "id": "984f1397-07e1-4932-a217-0be44a6e24a8",
   "metadata": {},
   "outputs": [
    {
     "data": {
      "text/plain": [
       "Index(['Campaign_ID', 'Target_Audience', 'Campaign_Goal', 'Duration',\n",
       "       'Channel_Used', 'Conversion_Rate', 'Acquisition_Cost', 'ROI',\n",
       "       'Location', 'Language', 'Clicks', 'Impressions', 'Engagement_Score',\n",
       "       'Customer_Segment', 'Date', 'Company'],\n",
       "      dtype='object')"
      ]
     },
     "execution_count": 9,
     "metadata": {},
     "output_type": "execute_result"
    }
   ],
   "source": [
    "data.columns"
   ]
  },
  {
   "cell_type": "code",
   "execution_count": 10,
   "id": "04ab98c2-8a3d-49c7-8129-9fcacb55486e",
   "metadata": {},
   "outputs": [
    {
     "data": {
      "text/plain": [
       "Campaign_ID           int64\n",
       "Target_Audience      object\n",
       "Campaign_Goal        object\n",
       "Duration             object\n",
       "Channel_Used         object\n",
       "Conversion_Rate     float64\n",
       "Acquisition_Cost     object\n",
       "ROI                 float64\n",
       "Location             object\n",
       "Language             object\n",
       "Clicks                int64\n",
       "Impressions           int64\n",
       "Engagement_Score      int64\n",
       "Customer_Segment     object\n",
       "Date                 object\n",
       "Company              object\n",
       "dtype: object"
      ]
     },
     "execution_count": 10,
     "metadata": {},
     "output_type": "execute_result"
    }
   ],
   "source": [
    "data.dtypes"
   ]
  },
  {
   "cell_type": "code",
   "execution_count": 11,
   "id": "0374b9ad-9950-4e9e-8b89-b626f312fb3f",
   "metadata": {},
   "outputs": [
    {
     "name": "stdout",
     "output_type": "stream",
     "text": [
      "<class 'pandas.core.frame.DataFrame'>\n",
      "RangeIndex: 300000 entries, 0 to 299999\n",
      "Data columns (total 16 columns):\n",
      " #   Column            Non-Null Count   Dtype  \n",
      "---  ------            --------------   -----  \n",
      " 0   Campaign_ID       300000 non-null  int64  \n",
      " 1   Target_Audience   300000 non-null  object \n",
      " 2   Campaign_Goal     300000 non-null  object \n",
      " 3   Duration          300000 non-null  object \n",
      " 4   Channel_Used      300000 non-null  object \n",
      " 5   Conversion_Rate   300000 non-null  float64\n",
      " 6   Acquisition_Cost  300000 non-null  object \n",
      " 7   ROI               300000 non-null  float64\n",
      " 8   Location          300000 non-null  object \n",
      " 9   Language          300000 non-null  object \n",
      " 10  Clicks            300000 non-null  int64  \n",
      " 11  Impressions       300000 non-null  int64  \n",
      " 12  Engagement_Score  300000 non-null  int64  \n",
      " 13  Customer_Segment  300000 non-null  object \n",
      " 14  Date              300000 non-null  object \n",
      " 15  Company           300000 non-null  object \n",
      "dtypes: float64(2), int64(4), object(10)\n",
      "memory usage: 36.6+ MB\n"
     ]
    }
   ],
   "source": [
    "data.info()"
   ]
  },
  {
   "cell_type": "code",
   "execution_count": 12,
   "id": "54c9959d-c7ee-496e-b69e-48242cd8c463",
   "metadata": {},
   "outputs": [
    {
     "data": {
      "text/plain": [
       "Campaign_ID         0\n",
       "Target_Audience     0\n",
       "Campaign_Goal       0\n",
       "Duration            0\n",
       "Channel_Used        0\n",
       "Conversion_Rate     0\n",
       "Acquisition_Cost    0\n",
       "ROI                 0\n",
       "Location            0\n",
       "Language            0\n",
       "Clicks              0\n",
       "Impressions         0\n",
       "Engagement_Score    0\n",
       "Customer_Segment    0\n",
       "Date                0\n",
       "Company             0\n",
       "dtype: int64"
      ]
     },
     "execution_count": 12,
     "metadata": {},
     "output_type": "execute_result"
    }
   ],
   "source": [
    "data.isnull().sum()"
   ]
  },
  {
   "cell_type": "code",
   "execution_count": 13,
   "id": "19fa9597-ebc6-4dc7-9b99-1425b0cad198",
   "metadata": {},
   "outputs": [
    {
     "ename": "ValueError",
     "evalue": "could not convert string to float: 'Men 35-44'",
     "output_type": "error",
     "traceback": [
      "\u001b[0;31m---------------------------------------------------------------------------\u001b[0m",
      "\u001b[0;31mValueError\u001b[0m                                Traceback (most recent call last)",
      "Cell \u001b[0;32mIn[13], line 1\u001b[0m\n\u001b[0;32m----> 1\u001b[0m data\u001b[38;5;241m.\u001b[39mcorr()\n",
      "File \u001b[0;32m~/anaconda3/envs/ranjeet/lib/python3.12/site-packages/pandas/core/frame.py:11049\u001b[0m, in \u001b[0;36mDataFrame.corr\u001b[0;34m(self, method, min_periods, numeric_only)\u001b[0m\n\u001b[1;32m  11047\u001b[0m cols \u001b[38;5;241m=\u001b[39m data\u001b[38;5;241m.\u001b[39mcolumns\n\u001b[1;32m  11048\u001b[0m idx \u001b[38;5;241m=\u001b[39m cols\u001b[38;5;241m.\u001b[39mcopy()\n\u001b[0;32m> 11049\u001b[0m mat \u001b[38;5;241m=\u001b[39m data\u001b[38;5;241m.\u001b[39mto_numpy(dtype\u001b[38;5;241m=\u001b[39m\u001b[38;5;28mfloat\u001b[39m, na_value\u001b[38;5;241m=\u001b[39mnp\u001b[38;5;241m.\u001b[39mnan, copy\u001b[38;5;241m=\u001b[39m\u001b[38;5;28;01mFalse\u001b[39;00m)\n\u001b[1;32m  11051\u001b[0m \u001b[38;5;28;01mif\u001b[39;00m method \u001b[38;5;241m==\u001b[39m \u001b[38;5;124m\"\u001b[39m\u001b[38;5;124mpearson\u001b[39m\u001b[38;5;124m\"\u001b[39m:\n\u001b[1;32m  11052\u001b[0m     correl \u001b[38;5;241m=\u001b[39m libalgos\u001b[38;5;241m.\u001b[39mnancorr(mat, minp\u001b[38;5;241m=\u001b[39mmin_periods)\n",
      "File \u001b[0;32m~/anaconda3/envs/ranjeet/lib/python3.12/site-packages/pandas/core/frame.py:1993\u001b[0m, in \u001b[0;36mDataFrame.to_numpy\u001b[0;34m(self, dtype, copy, na_value)\u001b[0m\n\u001b[1;32m   1991\u001b[0m \u001b[38;5;28;01mif\u001b[39;00m dtype \u001b[38;5;129;01mis\u001b[39;00m \u001b[38;5;129;01mnot\u001b[39;00m \u001b[38;5;28;01mNone\u001b[39;00m:\n\u001b[1;32m   1992\u001b[0m     dtype \u001b[38;5;241m=\u001b[39m np\u001b[38;5;241m.\u001b[39mdtype(dtype)\n\u001b[0;32m-> 1993\u001b[0m result \u001b[38;5;241m=\u001b[39m \u001b[38;5;28mself\u001b[39m\u001b[38;5;241m.\u001b[39m_mgr\u001b[38;5;241m.\u001b[39mas_array(dtype\u001b[38;5;241m=\u001b[39mdtype, copy\u001b[38;5;241m=\u001b[39mcopy, na_value\u001b[38;5;241m=\u001b[39mna_value)\n\u001b[1;32m   1994\u001b[0m \u001b[38;5;28;01mif\u001b[39;00m result\u001b[38;5;241m.\u001b[39mdtype \u001b[38;5;129;01mis\u001b[39;00m \u001b[38;5;129;01mnot\u001b[39;00m dtype:\n\u001b[1;32m   1995\u001b[0m     result \u001b[38;5;241m=\u001b[39m np\u001b[38;5;241m.\u001b[39masarray(result, dtype\u001b[38;5;241m=\u001b[39mdtype)\n",
      "File \u001b[0;32m~/anaconda3/envs/ranjeet/lib/python3.12/site-packages/pandas/core/internals/managers.py:1694\u001b[0m, in \u001b[0;36mBlockManager.as_array\u001b[0;34m(self, dtype, copy, na_value)\u001b[0m\n\u001b[1;32m   1692\u001b[0m         arr\u001b[38;5;241m.\u001b[39mflags\u001b[38;5;241m.\u001b[39mwriteable \u001b[38;5;241m=\u001b[39m \u001b[38;5;28;01mFalse\u001b[39;00m\n\u001b[1;32m   1693\u001b[0m \u001b[38;5;28;01melse\u001b[39;00m:\n\u001b[0;32m-> 1694\u001b[0m     arr \u001b[38;5;241m=\u001b[39m \u001b[38;5;28mself\u001b[39m\u001b[38;5;241m.\u001b[39m_interleave(dtype\u001b[38;5;241m=\u001b[39mdtype, na_value\u001b[38;5;241m=\u001b[39mna_value)\n\u001b[1;32m   1695\u001b[0m     \u001b[38;5;66;03m# The underlying data was copied within _interleave, so no need\u001b[39;00m\n\u001b[1;32m   1696\u001b[0m     \u001b[38;5;66;03m# to further copy if copy=True or setting na_value\u001b[39;00m\n\u001b[1;32m   1698\u001b[0m \u001b[38;5;28;01mif\u001b[39;00m na_value \u001b[38;5;129;01mis\u001b[39;00m lib\u001b[38;5;241m.\u001b[39mno_default:\n",
      "File \u001b[0;32m~/anaconda3/envs/ranjeet/lib/python3.12/site-packages/pandas/core/internals/managers.py:1753\u001b[0m, in \u001b[0;36mBlockManager._interleave\u001b[0;34m(self, dtype, na_value)\u001b[0m\n\u001b[1;32m   1751\u001b[0m     \u001b[38;5;28;01melse\u001b[39;00m:\n\u001b[1;32m   1752\u001b[0m         arr \u001b[38;5;241m=\u001b[39m blk\u001b[38;5;241m.\u001b[39mget_values(dtype)\n\u001b[0;32m-> 1753\u001b[0m     result[rl\u001b[38;5;241m.\u001b[39mindexer] \u001b[38;5;241m=\u001b[39m arr\n\u001b[1;32m   1754\u001b[0m     itemmask[rl\u001b[38;5;241m.\u001b[39mindexer] \u001b[38;5;241m=\u001b[39m \u001b[38;5;241m1\u001b[39m\n\u001b[1;32m   1756\u001b[0m \u001b[38;5;28;01mif\u001b[39;00m \u001b[38;5;129;01mnot\u001b[39;00m itemmask\u001b[38;5;241m.\u001b[39mall():\n",
      "\u001b[0;31mValueError\u001b[0m: could not convert string to float: 'Men 35-44'"
     ]
    }
   ],
   "source": [
    "data.corr()"
   ]
  },
  {
   "cell_type": "code",
   "execution_count": 14,
   "id": "a9e0f9f5-3b68-49b0-89c5-57bcd7f54b4d",
   "metadata": {},
   "outputs": [
    {
     "data": {
      "text/plain": [
       "array(['Men 35-44', 'Women 45-60', 'Men 45-60', ..., 'Women 35-44',\n",
       "       'Women 18-24', 'Men 25-34'], shape=(300000,), dtype=object)"
      ]
     },
     "execution_count": 14,
     "metadata": {},
     "output_type": "execute_result"
    }
   ],
   "source": [
    "data['Target_Audience'].values"
   ]
  },
  {
   "cell_type": "code",
   "execution_count": 16,
   "id": "fe8cc372-85c5-4e52-9196-74972fb55d63",
   "metadata": {},
   "outputs": [
    {
     "data": {
      "text/plain": [
       "array([0.15, 0.01, 0.08, ..., 0.09, 0.13, 0.08], shape=(300000,))"
      ]
     },
     "execution_count": 16,
     "metadata": {},
     "output_type": "execute_result"
    }
   ],
   "source": [
    "data['Conversion_Rate'].values"
   ]
  },
  {
   "cell_type": "code",
   "execution_count": null,
   "id": "169b8a2e-5f7c-4304-9ba4-02f6b2658124",
   "metadata": {},
   "outputs": [],
   "source": []
  }
 ],
 "metadata": {
  "kernelspec": {
   "display_name": "Python 3 (ipykernel)",
   "language": "python",
   "name": "python3"
  },
  "language_info": {
   "codemirror_mode": {
    "name": "ipython",
    "version": 3
   },
   "file_extension": ".py",
   "mimetype": "text/x-python",
   "name": "python",
   "nbconvert_exporter": "python",
   "pygments_lexer": "ipython3",
   "version": "3.12.8"
  }
 },
 "nbformat": 4,
 "nbformat_minor": 5
}
